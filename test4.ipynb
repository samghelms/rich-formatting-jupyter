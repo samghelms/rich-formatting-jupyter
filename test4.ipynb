{
 "cells": [
  {
   "cell_type": "code",
   "execution_count": 1,
   "metadata": {
    "collapsed": true
   },
   "outputs": [],
   "source": [
    "from pandas_ext.UpdatedDataFrame2 import UpdatedDataFrame as DataFrame\n"
   ]
  },
  {
   "cell_type": "code",
   "execution_count": 2,
   "metadata": {
    "collapsed": true
   },
   "outputs": [],
   "source": [
    "df = DataFrame([\"test\", \"Test\"])"
   ]
  },
  {
   "cell_type": "code",
   "execution_count": 3,
   "metadata": {
    "collapsed": true
   },
   "outputs": [],
   "source": [
    "df2 = DataFrame([df, df])"
   ]
  },
  {
   "cell_type": "code",
   "execution_count": 4,
   "metadata": {},
   "outputs": [
    {
     "name": "stdout",
     "output_type": "stream",
     "text": [
      "========repr html called=======\n",
      "========repr html called=======\n",
      "========repr html called=======\n"
     ]
    },
    {
     "data": {
      "text/html": [
       "<div>\n",
       "<style scoped>\n",
       "    .dataframe tbody tr th:only-of-type {\n",
       "        vertical-align: middle;\n",
       "    }\n",
       "\n",
       "    .dataframe tbody tr th {\n",
       "        vertical-align: top;\n",
       "    }\n",
       "\n",
       "    .dataframe thead th {\n",
       "        text-align: right;\n",
       "    }\n",
       "</style>\n",
       "<table border=\"1\" class=\"dataframe\" id=\"be2fc346-0c50-11e8-a42b-600308a8611a\">\n",
       "  <thead>\n",
       "  <tr style=\"text-align: right;\">\n",
       "      <th></th>\n",
       "      <th>0</th>\n",
       "  </tr>\n",
       "  </thead>\n",
       "  <tbody>\n",
       "    <tr>\n",
       "      <th>0</th>\n",
       "      <td class=\"row-0 col-0\"><div>\n",
       "<style scoped>\n",
       "    .dataframe tbody tr th:only-of-type {\n",
       "        vertical-align: middle;\n",
       "    }\n",
       "\n",
       "    .dataframe tbody tr th {\n",
       "        vertical-align: top;\n",
       "    }\n",
       "\n",
       "    .dataframe thead th {\n",
       "        text-align: right;\n",
       "    }\n",
       "</style>\n",
       "<table border=\"1\" class=\"dataframe\" id=\"be325618-0c50-11e8-b9cf-600308a8611a\">\n",
       "  <thead>\n",
       "  <tr style=\"text-align: right;\">\n",
       "      <th></th>\n",
       "      <th>0</th>\n",
       "  </tr>\n",
       "  </thead>\n",
       "  <tbody>\n",
       "    <tr>\n",
       "      <th>0</th>\n",
       "      <td class=\"row-0 col-0\">test</td>\n",
       "    </tr>\n",
       "    <tr>\n",
       "      <th>1</th>\n",
       "      <td class=\"row-1 col-0\">Test</td>\n",
       "    </tr>\n",
       "  </tbody>\n",
       "</table>\n",
       "</div></td>\n",
       "    </tr>\n",
       "    <tr>\n",
       "      <th>1</th>\n",
       "      <td class=\"row-1 col-0\"><div>\n",
       "<style scoped>\n",
       "    .dataframe tbody tr th:only-of-type {\n",
       "        vertical-align: middle;\n",
       "    }\n",
       "\n",
       "    .dataframe tbody tr th {\n",
       "        vertical-align: top;\n",
       "    }\n",
       "\n",
       "    .dataframe thead th {\n",
       "        text-align: right;\n",
       "    }\n",
       "</style>\n",
       "<table border=\"1\" class=\"dataframe\" id=\"be32d1c6-0c50-11e8-965f-600308a8611a\">\n",
       "  <thead>\n",
       "  <tr style=\"text-align: right;\">\n",
       "      <th></th>\n",
       "      <th>0</th>\n",
       "  </tr>\n",
       "  </thead>\n",
       "  <tbody>\n",
       "    <tr>\n",
       "      <th>0</th>\n",
       "      <td class=\"row-0 col-0\">test</td>\n",
       "    </tr>\n",
       "    <tr>\n",
       "      <th>1</th>\n",
       "      <td class=\"row-1 col-0\">Test</td>\n",
       "    </tr>\n",
       "  </tbody>\n",
       "</table>\n",
       "</div></td>\n",
       "    </tr>\n",
       "  </tbody>\n",
       "</table>\n",
       "</div>"
      ],
      "text/plain": [
       "                         0\n",
       "0        0\n",
       "0  test\n",
       "1  Test\n",
       "1        0\n",
       "0  test\n",
       "1  Test"
      ]
     },
     "execution_count": 4,
     "metadata": {},
     "output_type": "execute_result"
    }
   ],
   "source": [
    "df2"
   ]
  },
  {
   "cell_type": "code",
   "execution_count": 5,
   "metadata": {
    "collapsed": true
   },
   "outputs": [],
   "source": [
    "import pandas as pd\n",
    "from IPython.core.display import display, HTML"
   ]
  },
  {
   "cell_type": "code",
   "execution_count": 6,
   "metadata": {
    "collapsed": true
   },
   "outputs": [],
   "source": [
    "script = \\\n",
    "\"\"\"\n",
    "<script>\n",
    "requirejs.config({\n",
    "    paths: { \n",
    "       'katex': ['//cdnjs.cloudflare.com/ajax/libs/KaTeX/0.9.0-beta1/katex.min'], \n",
    "                                              // strip .js ^, require adds it back\n",
    "    },\n",
    "});\n",
    "\n",
    "require(['katex'], function(katex) {\n",
    "     console.log(\"Loaded :)\");\n",
    "     console.log(katex)\n",
    "     window.katex = katex\n",
    "     return {};\n",
    "});\n",
    "</script>\n",
    "\"\"\""
   ]
  },
  {
   "cell_type": "code",
   "execution_count": 7,
   "metadata": {},
   "outputs": [
    {
     "data": {
      "text/html": [
       "\n",
       "<script>\n",
       "requirejs.config({\n",
       "    paths: { \n",
       "       'katex': ['//cdnjs.cloudflare.com/ajax/libs/KaTeX/0.9.0-beta1/katex.min'], \n",
       "                                              // strip .js ^, require adds it back\n",
       "    },\n",
       "});\n",
       "\n",
       "require(['katex'], function(katex) {\n",
       "     console.log(\"Loaded :)\");\n",
       "     console.log(katex)\n",
       "     window.katex = katex\n",
       "     return {};\n",
       "});\n",
       "</script>\n"
      ],
      "text/plain": [
       "<IPython.core.display.HTML object>"
      ]
     },
     "metadata": {},
     "output_type": "display_data"
    }
   ],
   "source": [
    "display(HTML(script))"
   ]
  },
  {
   "cell_type": "code",
   "execution_count": 8,
   "metadata": {
    "collapsed": true
   },
   "outputs": [],
   "source": [
    "# display(HTML('<script src=\"https://cdnjs.cloudflare.com/ajax/libs/KaTeX/0.9.0-beta1/katex.min.js\" integrity=\"sha384-O4hpKqcplNCe+jLuBVEXC10Rn1QEqAmX98lKAIFBEDxZI0a+6Z2w2n8AEtQbR4CD\" crossorigin=\"anonymous\"></script>'))"
   ]
  },
  {
   "cell_type": "code",
   "execution_count": 9,
   "metadata": {},
   "outputs": [
    {
     "data": {
      "text/html": [
       "<link rel=\"stylesheet\" href=\"https://cdnjs.cloudflare.com/ajax/libs/KaTeX/0.9.0-beta1/katex.min.css\" integrity=\"sha384-VEnyslhHLHiYPca9KFkBB3CMeslnM9CzwjxsEbZTeA21JBm7tdLwKoZmCt3cZTYD\" crossorigin=\"anonymous\">"
      ],
      "text/plain": [
       "<IPython.core.display.HTML object>"
      ]
     },
     "metadata": {},
     "output_type": "display_data"
    }
   ],
   "source": [
    "display(HTML('<link rel=\"stylesheet\" href=\"https://cdnjs.cloudflare.com/ajax/libs/KaTeX/0.9.0-beta1/katex.min.css\" integrity=\"sha384-VEnyslhHLHiYPca9KFkBB3CMeslnM9CzwjxsEbZTeA21JBm7tdLwKoZmCt3cZTYD\" crossorigin=\"anonymous\">'))"
   ]
  },
  {
   "cell_type": "code",
   "execution_count": 10,
   "metadata": {
    "collapsed": true
   },
   "outputs": [],
   "source": [
    "from uuid import uuid1\n",
    "class katex:\n",
    "    def __init__(self, string):\n",
    "        self._start = lambda uid: \"<div id='\"+uid+\"'/>\\n<script>\"\n",
    "        self._vars = \"var parent, newChild;\"\n",
    "        self._parent = lambda uid: \"parent = document.getElementById('{_id}');\".format(_id=uid)\n",
    "        self._body = [\"newChild = document.createElement('span');\",\n",
    "                      \"katex.render('\"+string+\"', newChild);\",\n",
    "                      \"parent.appendChild(newChild);\",\n",
    "                       \"console.log('test');\"]\n",
    "        self._body = \"\\n\".join(self._body)\n",
    "        self._end = \"</script>\"\n",
    "\n",
    "    def _repr_html_(self):\n",
    "        self._id = str(uuid1())\n",
    "        rep = \"\\n\".join([self._start(self._id), self._vars, self._parent(self._id), self._body, self._end])\n",
    "        return rep\n",
    "\n"
   ]
  },
  {
   "cell_type": "code",
   "execution_count": 11,
   "metadata": {},
   "outputs": [
    {
     "data": {
      "text/html": [
       "<div id='be4951e2-0c50-11e8-bfcb-600308a8611a'/>\n",
       "<script>\n",
       "var parent, newChild;\n",
       "parent = document.getElementById('be4951e2-0c50-11e8-bfcb-600308a8611a');\n",
       "newChild = document.createElement('span');\n",
       "katex.render('\\\\int x = \\\\frac{x}{y} = \\\\frac{\\\\lambda y + 100}{\\\\int e = mc^2}', newChild);\n",
       "parent.appendChild(newChild);\n",
       "console.log('test');\n",
       "</script>"
      ],
      "text/plain": [
       "<__main__.katex at 0x10e2dfe48>"
      ]
     },
     "execution_count": 11,
     "metadata": {},
     "output_type": "execute_result"
    }
   ],
   "source": [
    "k = katex(r\"\\\\int x = \\\\frac{x}{y} = \\\\frac{\\\\lambda y + 100}{\\\\int e = mc^2}\")\n",
    "k"
   ]
  },
  {
   "cell_type": "code",
   "execution_count": 12,
   "metadata": {
    "scrolled": false
   },
   "outputs": [
    {
     "name": "stdout",
     "output_type": "stream",
     "text": [
      "========repr html called=======\n"
     ]
    },
    {
     "data": {
      "text/html": [
       "<div>\n",
       "<style scoped>\n",
       "    .dataframe tbody tr th:only-of-type {\n",
       "        vertical-align: middle;\n",
       "    }\n",
       "\n",
       "    .dataframe tbody tr th {\n",
       "        vertical-align: top;\n",
       "    }\n",
       "\n",
       "    .dataframe thead th {\n",
       "        text-align: right;\n",
       "    }\n",
       "</style>\n",
       "<table border=\"1\" class=\"dataframe\" id=\"be520274-0c50-11e8-8f10-600308a8611a\">\n",
       "  <thead>\n",
       "  <tr style=\"text-align: right;\">\n",
       "      <th></th>\n",
       "      <th>0</th>\n",
       "  </tr>\n",
       "  </thead>\n",
       "  <tbody>\n",
       "    <tr>\n",
       "      <th>0</th>\n",
       "      <td class=\"row-0 col-0\"><div id='be52a512-0c50-11e8-802c-600308a8611a'/>\n",
       "<script>\n",
       "var parent, newChild;\n",
       "parent = document.getElementById('be52a512-0c50-11e8-802c-600308a8611a');\n",
       "newChild = document.createElement('span');\n",
       "katex.render('\\\\int x = \\\\frac{x}{y} = \\\\frac{\\\\lambda y + 100}{\\\\int e = mc^2}', newChild);\n",
       "parent.appendChild(newChild);\n",
       "console.log('test');\n",
       "</script></td>\n",
       "    </tr>\n",
       "    <tr>\n",
       "      <th>1</th>\n",
       "      <td class=\"row-1 col-0\"><div id='be52a97a-0c50-11e8-867f-600308a8611a'/>\n",
       "<script>\n",
       "var parent, newChild;\n",
       "parent = document.getElementById('be52a97a-0c50-11e8-867f-600308a8611a');\n",
       "newChild = document.createElement('span');\n",
       "katex.render('\\\\int x = \\\\frac{x}{y} = \\\\frac{\\\\lambda y + 100}{\\\\int e = mc^2}', newChild);\n",
       "parent.appendChild(newChild);\n",
       "console.log('test');\n",
       "</script></td>\n",
       "    </tr>\n",
       "    <tr>\n",
       "      <th>2</th>\n",
       "      <td class=\"row-2 col-0\"><div id='be52aa58-0c50-11e8-b6da-600308a8611a'/>\n",
       "<script>\n",
       "var parent, newChild;\n",
       "parent = document.getElementById('be52aa58-0c50-11e8-b6da-600308a8611a');\n",
       "newChild = document.createElement('span');\n",
       "katex.render('\\\\int x = \\\\frac{x}{y} = \\\\frac{\\\\lambda y + 100}{\\\\int e = mc^2}', newChild);\n",
       "parent.appendChild(newChild);\n",
       "console.log('test');\n",
       "</script></td>\n",
       "    </tr>\n",
       "  </tbody>\n",
       "</table>\n",
       "</div>"
      ],
      "text/plain": [
       "                                        0\n",
       "0  <__main__.katex object at 0x10e2dfe48>\n",
       "1  <__main__.katex object at 0x10e2dfe48>\n",
       "2  <__main__.katex object at 0x10e2dfe48>"
      ]
     },
     "execution_count": 12,
     "metadata": {},
     "output_type": "execute_result"
    }
   ],
   "source": [
    "DataFrame([k, k, k])"
   ]
  },
  {
   "cell_type": "code",
   "execution_count": null,
   "metadata": {
    "collapsed": true
   },
   "outputs": [],
   "source": []
  }
 ],
 "metadata": {
  "kernelspec": {
   "display_name": "env",
   "language": "python",
   "name": "env"
  },
  "language_info": {
   "codemirror_mode": {
    "name": "ipython",
    "version": 3
   },
   "file_extension": ".py",
   "mimetype": "text/x-python",
   "name": "python",
   "nbconvert_exporter": "python",
   "pygments_lexer": "ipython3",
   "version": "3.6.2"
  }
 },
 "nbformat": 4,
 "nbformat_minor": 2
}
